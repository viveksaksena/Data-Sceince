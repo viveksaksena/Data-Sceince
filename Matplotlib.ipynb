{
 "cells": [
  {
   "cell_type": "code",
   "execution_count": 1,
   "metadata": {},
   "outputs": [],
   "source": [
    "import numpy as np\n",
    "import pandas as pd\n",
    "import matplotlib.pyplot as plt"
   ]
  },
  {
   "cell_type": "code",
   "execution_count": 2,
   "metadata": {},
   "outputs": [],
   "source": [
    "a = np.array([10,11,10,13,10,15])\n",
    "b = np.array([15,10,15,14,12,15])"
   ]
  },
  {
   "cell_type": "code",
   "execution_count": 3,
   "metadata": {},
   "outputs": [
    {
     "data": {
      "text/plain": [
       "[<matplotlib.lines.Line2D at 0x1de37c59130>]"
      ]
     },
     "execution_count": 3,
     "metadata": {},
     "output_type": "execute_result"
    },
    {
     "data": {
      "image/png": "[encoded data removed]",
      "text/plain": [
       "<Figure size 432x288 with 1 Axes>"
      ]
     },
     "metadata": {
      "needs_background": "light"
     },
     "output_type": "display_data"
    }
   ],
   "source": [
    "plt.plot(a)"
   ]
  },
  {
   "cell_type": "code",
   "execution_count": 4,
   "metadata": {},
   "outputs": [
    {
     "data": {
      "text/plain": [
       "(array([3., 0., 1., 0., 0., 0., 1., 0., 0., 1.]),\n",
       " array([10. , 10.5, 11. , 11.5, 12. , 12.5, 13. , 13.5, 14. , 14.5, 15. ]),\n",
       " <BarContainer object of 10 artists>)"
      ]
     },
     "execution_count": 4,
     "metadata": {},
     "output_type": "execute_result"
    },
    {
     "data": {
      "image/png": "[encoded data removed]",
      "text/plain": [
       "<Figure size 432x288 with 1 Axes>"
      ]
     },
     "metadata": {
      "needs_background": "light"
     },
     "output_type": "display_data"
    }
   ],
   "source": [
    "plt.hist(a)"
   ]
  },
  {
   "cell_type": "code",
   "execution_count": 5,
   "metadata": {},
   "outputs": [
    {
     "data": {
      "text/plain": [
       "<matplotlib.collections.PathCollection at 0x1de3800f5b0>"
      ]
     },
     "execution_count": 5,
     "metadata": {},
     "output_type": "execute_result"
    },
    {
     "data": {
      "image/png": "[encoded data removed]",
      "text/plain": [
       "<Figure size 432x288 with 1 Axes>"
      ]
     },
     "metadata": {
      "needs_background": "light"
     },
     "output_type": "display_data"
    }
   ],
   "source": [
    "plt.scatter(a,b)"
   ]
  },
  {
   "cell_type": "code",
   "execution_count": 6,
   "metadata": {},
   "outputs": [],
   "source": [
    "#Data for plotting\n",
    "t = np.arange(0.0,2.0,0.01)\n",
    "s = 1+np.sin(2* np.pi*t)"
   ]
  },
  {
   "cell_type": "code",
   "execution_count": 7,
   "metadata": {},
   "outputs": [
    {
     "data": {
      "text/plain": [
       "array([0.  , 0.01, 0.02, 0.03, 0.04, 0.05, 0.06, 0.07, 0.08, 0.09, 0.1 ,\n",
       "       0.11, 0.12, 0.13, 0.14, 0.15, 0.16, 0.17, 0.18, 0.19, 0.2 , 0.21,\n",
       "       0.22, 0.23, 0.24, 0.25, 0.26, 0.27, 0.28, 0.29, 0.3 , 0.31, 0.32,\n",
       "       0.33, 0.34, 0.35, 0.36, 0.37, 0.38, 0.39, 0.4 , 0.41, 0.42, 0.43,\n",
       "       0.44, 0.45, 0.46, 0.47, 0.48, 0.49, 0.5 , 0.51, 0.52, 0.53, 0.54,\n",
       "       0.55, 0.56, 0.57, 0.58, 0.59, 0.6 , 0.61, 0.62, 0.63, 0.64, 0.65,\n",
       "       0.66, 0.67, 0.68, 0.69, 0.7 , 0.71, 0.72, 0.73, 0.74, 0.75, 0.76,\n",
       "       0.77, 0.78, 0.79, 0.8 , 0.81, 0.82, 0.83, 0.84, 0.85, 0.86, 0.87,\n",
       "       0.88, 0.89, 0.9 , 0.91, 0.92, 0.93, 0.94, 0.95, 0.96, 0.97, 0.98,\n",
       "       0.99, 1.  , 1.01, 1.02, 1.03, 1.04, 1.05, 1.06, 1.07, 1.08, 1.09,\n",
       "       1.1 , 1.11, 1.12, 1.13, 1.14, 1.15, 1.16, 1.17, 1.18, 1.19, 1.2 ,\n",
       "       1.21, 1.22, 1.23, 1.24, 1.25, 1.26, 1.27, 1.28, 1.29, 1.3 , 1.31,\n",
       "       1.32, 1.33, 1.34, 1.35, 1.36, 1.37, 1.38, 1.39, 1.4 , 1.41, 1.42,\n",
       "       1.43, 1.44, 1.45, 1.46, 1.47, 1.48, 1.49, 1.5 , 1.51, 1.52, 1.53,\n",
       "       1.54, 1.55, 1.56, 1.57, 1.58, 1.59, 1.6 , 1.61, 1.62, 1.63, 1.64,\n",
       "       1.65, 1.66, 1.67, 1.68, 1.69, 1.7 , 1.71, 1.72, 1.73, 1.74, 1.75,\n",
       "       1.76, 1.77, 1.78, 1.79, 1.8 , 1.81, 1.82, 1.83, 1.84, 1.85, 1.86,\n",
       "       1.87, 1.88, 1.89, 1.9 , 1.91, 1.92, 1.93, 1.94, 1.95, 1.96, 1.97,\n",
       "       1.98, 1.99])"
      ]
     },
     "execution_count": 7,
     "metadata": {},
     "output_type": "execute_result"
    }
   ],
   "source": [
    "t"
   ]
  },
  {
   "cell_type": "code",
   "execution_count": 8,
   "metadata": {},
   "outputs": [
    {
     "data": {
      "text/plain": [
       "array([1.00000000e+00, 1.06279052e+00, 1.12533323e+00, 1.18738131e+00,\n",
       "       1.24868989e+00, 1.30901699e+00, 1.36812455e+00, 1.42577929e+00,\n",
       "       1.48175367e+00, 1.53582679e+00, 1.58778525e+00, 1.63742399e+00,\n",
       "       1.68454711e+00, 1.72896863e+00, 1.77051324e+00, 1.80901699e+00,\n",
       "       1.84432793e+00, 1.87630668e+00, 1.90482705e+00, 1.92977649e+00,\n",
       "       1.95105652e+00, 1.96858316e+00, 1.98228725e+00, 1.99211470e+00,\n",
       "       1.99802673e+00, 2.00000000e+00, 1.99802673e+00, 1.99211470e+00,\n",
       "       1.98228725e+00, 1.96858316e+00, 1.95105652e+00, 1.92977649e+00,\n",
       "       1.90482705e+00, 1.87630668e+00, 1.84432793e+00, 1.80901699e+00,\n",
       "       1.77051324e+00, 1.72896863e+00, 1.68454711e+00, 1.63742399e+00,\n",
       "       1.58778525e+00, 1.53582679e+00, 1.48175367e+00, 1.42577929e+00,\n",
       "       1.36812455e+00, 1.30901699e+00, 1.24868989e+00, 1.18738131e+00,\n",
       "       1.12533323e+00, 1.06279052e+00, 1.00000000e+00, 9.37209480e-01,\n",
       "       8.74666766e-01, 8.12618685e-01, 7.51310113e-01, 6.90983006e-01,\n",
       "       6.31875447e-01, 5.74220708e-01, 5.18246326e-01, 4.64173205e-01,\n",
       "       4.12214748e-01, 3.62576010e-01, 3.15452894e-01, 2.71031373e-01,\n",
       "       2.29486757e-01, 1.90983006e-01, 1.55672074e-01, 1.23693320e-01,\n",
       "       9.51729475e-02, 7.02235141e-02, 4.89434837e-02, 3.14168389e-02,\n",
       "       1.77127493e-02, 7.88529869e-03, 1.97327157e-03, 0.00000000e+00,\n",
       "       1.97327157e-03, 7.88529869e-03, 1.77127493e-02, 3.14168389e-02,\n",
       "       4.89434837e-02, 7.02235141e-02, 9.51729475e-02, 1.23693320e-01,\n",
       "       1.55672074e-01, 1.90983006e-01, 2.29486757e-01, 2.71031373e-01,\n",
       "       3.15452894e-01, 3.62576010e-01, 4.12214748e-01, 4.64173205e-01,\n",
       "       5.18246326e-01, 5.74220708e-01, 6.31875447e-01, 6.90983006e-01,\n",
       "       7.51310113e-01, 8.12618685e-01, 8.74666766e-01, 9.37209480e-01,\n",
       "       1.00000000e+00, 1.06279052e+00, 1.12533323e+00, 1.18738131e+00,\n",
       "       1.24868989e+00, 1.30901699e+00, 1.36812455e+00, 1.42577929e+00,\n",
       "       1.48175367e+00, 1.53582679e+00, 1.58778525e+00, 1.63742399e+00,\n",
       "       1.68454711e+00, 1.72896863e+00, 1.77051324e+00, 1.80901699e+00,\n",
       "       1.84432793e+00, 1.87630668e+00, 1.90482705e+00, 1.92977649e+00,\n",
       "       1.95105652e+00, 1.96858316e+00, 1.98228725e+00, 1.99211470e+00,\n",
       "       1.99802673e+00, 2.00000000e+00, 1.99802673e+00, 1.99211470e+00,\n",
       "       1.98228725e+00, 1.96858316e+00, 1.95105652e+00, 1.92977649e+00,\n",
       "       1.90482705e+00, 1.87630668e+00, 1.84432793e+00, 1.80901699e+00,\n",
       "       1.77051324e+00, 1.72896863e+00, 1.68454711e+00, 1.63742399e+00,\n",
       "       1.58778525e+00, 1.53582679e+00, 1.48175367e+00, 1.42577929e+00,\n",
       "       1.36812455e+00, 1.30901699e+00, 1.24868989e+00, 1.18738131e+00,\n",
       "       1.12533323e+00, 1.06279052e+00, 1.00000000e+00, 9.37209480e-01,\n",
       "       8.74666766e-01, 8.12618685e-01, 7.51310113e-01, 6.90983006e-01,\n",
       "       6.31875447e-01, 5.74220708e-01, 5.18246326e-01, 4.64173205e-01,\n",
       "       4.12214748e-01, 3.62576010e-01, 3.15452894e-01, 2.71031373e-01,\n",
       "       2.29486757e-01, 1.90983006e-01, 1.55672074e-01, 1.23693320e-01,\n",
       "       9.51729475e-02, 7.02235141e-02, 4.89434837e-02, 3.14168389e-02,\n",
       "       1.77127493e-02, 7.88529869e-03, 1.97327157e-03, 0.00000000e+00,\n",
       "       1.97327157e-03, 7.88529869e-03, 1.77127493e-02, 3.14168389e-02,\n",
       "       4.89434837e-02, 7.02235141e-02, 9.51729475e-02, 1.23693320e-01,\n",
       "       1.55672074e-01, 1.90983006e-01, 2.29486757e-01, 2.71031373e-01,\n",
       "       3.15452894e-01, 3.62576010e-01, 4.12214748e-01, 4.64173205e-01,\n",
       "       5.18246326e-01, 5.74220708e-01, 6.31875447e-01, 6.90983006e-01,\n",
       "       7.51310113e-01, 8.12618685e-01, 8.74666766e-01, 9.37209480e-01])"
      ]
     },
     "execution_count": 8,
     "metadata": {},
     "output_type": "execute_result"
    }
   ],
   "source": [
    "s"
   ]
  },
  {
   "cell_type": "code",
   "execution_count": 9,
   "metadata": {},
   "outputs": [
    {
     "ename": "NameError",
     "evalue": "name 'ax' is not defined",
     "output_type": "error",
     "traceback": [
      "\u001b[1;31m---------------------------------------------------------------------------\u001b[0m",
      "\u001b[1;31mNameError\u001b[0m                                 Traceback (most recent call last)",
      "\u001b[1;32m<ipython-input-9-7031dcabd1a2>\u001b[0m in \u001b[0;36m<module>\u001b[1;34m\u001b[0m\n\u001b[1;32m----> 1\u001b[1;33m \u001b[0mprint\u001b[0m\u001b[1;33m(\u001b[0m\u001b[0mstr\u001b[0m\u001b[1;33m(\u001b[0m\u001b[0max\u001b[0m\u001b[1;33m)\u001b[0m\u001b[1;33m)\u001b[0m\u001b[1;33m\u001b[0m\u001b[1;33m\u001b[0m\u001b[0m\n\u001b[0m",
      "\u001b[1;31mNameError\u001b[0m: name 'ax' is not defined"
     ]
    }
   ],
   "source": [
    "print(str(ax))"
   ]
  },
  {
   "cell_type": "code",
   "execution_count": null,
   "metadata": {},
   "outputs": [],
   "source": [
    "fig, ax = plt.subplots()\n",
    "\n",
    "ax.plot(t,s)\n",
    "ax.set(xlabel='time(s)',ylabel='voltage(mv)',title='About as simple as it gets,folks')\n",
    "ax.grid()\n",
    "fig.savefig(\"test.png\")\n",
    "plt.show()"
   ]
  },
  {
   "cell_type": "code",
   "execution_count": null,
   "metadata": {},
   "outputs": [],
   "source": [
    "import os\n",
    "os.getcwd()"
   ]
  },
  {
   "cell_type": "markdown",
   "metadata": {},
   "source": [
    "## one of the characters {'b', 'g', 'r', 'c', 'm', 'y', 'k', 'w'}, which are short-hand notations for shades of blue, green, red, cyan, magenta, yellow, black, and white. Note that the colors 'g', 'c', 'm', 'y' do not coincide with the X11/CSS4 colors. Their particular shades were chosen for better visibility of colored lines against typical backgrounds."
   ]
  },
  {
   "cell_type": "code",
   "execution_count": null,
   "metadata": {},
   "outputs": [],
   "source": [
    "fig, ax = plt.subplots()\n",
    "#Add a line plot to the window.\n",
    "ln, = ax.plot(range(5))\n",
    "ln.set_color('k')\n",
    "plt.show()"
   ]
  },
  {
   "cell_type": "markdown",
   "metadata": {},
   "source": [
    "In the below code plt.axis takes a list of [xmin,xmax,ymin,ymax] and specifies the viewport "
   ]
  },
  {
   "cell_type": "code",
   "execution_count": null,
   "metadata": {},
   "outputs": [],
   "source": [
    "plt.plot([1,2,3,4],[1,4,9,16])\n",
    "plt.axis([0,6,0,20])\n",
    "plt.show()\n"
   ]
  },
  {
   "cell_type": "code",
   "execution_count": null,
   "metadata": {},
   "outputs": [],
   "source": []
  }
 ],
 "metadata": {
  "kernelspec": {
   "display_name": "Python 3",
   "language": "python",
   "name": "python3"
  },
  "language_info": {
   "codemirror_mode": {
    "name": "ipython",
    "version": 3
   },
   "file_extension": ".py",
   "mimetype": "text/x-python",
   "name": "python",
   "nbconvert_exporter": "python",
   "pygments_lexer": "ipython3",
   "version": "3.8.5"
  }
 },
 "nbformat": 4,
 "nbformat_minor": 4
}
